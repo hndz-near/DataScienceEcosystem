{
 "cells": [
  {
   "cell_type": "markdown",
   "id": "d93925a2-2cc4-49c4-958d-f1e0d9d065df",
   "metadata": {},
   "source": [
    "<h1>Data Science Tools and Ecosystem<h1>"
   ]
  },
  {
   "cell_type": "markdown",
   "id": "3392b503-1131-4816-ada2-18ea0f77c12e",
   "metadata": {},
   "source": [
    "The Data Science Ecosystem notebook serves as a comprehensive guide to understanding and navigating the diverse tools, frameworks, and methodologies pivotal to the field of data science."
   ]
  },
  {
   "cell_type": "markdown",
   "id": "bf8542b4-fbbb-4634-b662-00fe3ca407ec",
   "metadata": {},
   "source": [
    "**Objectives:**"
   ]
  },
  {
   "cell_type": "markdown",
   "id": "6a5f58a6-bb37-4698-b708-0c4a576ce622",
   "metadata": {},
   "source": [
    "- List popular languages for Data Science\n",
    "- Introduce commonly used libraries in Data Science\n",
    "- Describe development environment tools for Data Science\n",
    "- Provide examples of basic arithmetic expressions in Python\n",
    "- Demonstrate conversion of minutes to hours using Python"
   ]
  },
  {
   "cell_type": "markdown",
   "id": "358edaba-d7e7-453a-88f0-1e6a376850e4",
   "metadata": {},
   "source": [
    "Some of the popular languages that Data Scientists use are:\n",
    "1. Python\n",
    "2. R\n",
    "3. SQL\n",
    "4. Julia\n",
    "5. Java"
   ]
  },
  {
   "cell_type": "markdown",
   "id": "e16d8ea3-755b-4673-a1ed-40c8b5a6c973",
   "metadata": {},
   "source": [
    "Some of the commonly used libraries used by Data Scientists include:\n",
    "1. NumPy\n",
    "2. Pandas\n",
    "3. Scikit-learn\n",
    "4. Matplotlib\n",
    "5. TensorFlow"
   ]
  },
  {
   "cell_type": "markdown",
   "id": "7d332faa-cddd-4bce-9f95-a20913ee05f1",
   "metadata": {},
   "source": [
    "| **Data Science Tools**      |\n",
    "|-----------------------------|\n",
    "| Jupyter Notebook            |\n",
    "| RStudio                     |\n",
    "| Apache Zeppelin             |"
   ]
  },
  {
   "cell_type": "markdown",
   "id": "b7bafc1b-7b38-49e6-9738-11d8a00c7a79",
   "metadata": {},
   "source": [
    "### Below are a few examples of evaluating arithmetic expressions in Python\n",
    "\n",
    "1. Addition: `2 + 3 = 5`\n",
    "2. Subtraction: `5 - 2 = 3`\n",
    "3. Multiplication: `3 * 4 = 12`\n",
    "4. Division: `10 / 2 = 5`"
   ]
  },
  {
   "cell_type": "markdown",
   "id": "9ca88816-2895-4fa4-8a13-77466a081619",
   "metadata": {},
   "source": [
    "# This is a simple arithmetic expression to multiply then add integers"
   ]
  },
  {
   "cell_type": "code",
   "execution_count": 10,
   "id": "8d2d4059-124c-4030-9834-a9bd339eed13",
   "metadata": {},
   "outputs": [
    {
     "data": {
      "text/plain": [
       "17"
      ]
     },
     "execution_count": 10,
     "metadata": {},
     "output_type": "execute_result"
    }
   ],
   "source": [
    "result = (3 * 4) + 5\n",
    "result"
   ]
  },
  {
   "cell_type": "markdown",
   "id": "9bf13f8d-7f08-4f68-bcad-28ae94b72ef8",
   "metadata": {},
   "source": [
    "# This will convert 200 minutes to hours by dividing by 60"
   ]
  },
  {
   "cell_type": "code",
   "execution_count": 11,
   "id": "7757e010-1a93-44da-a2da-8a386176d6df",
   "metadata": {},
   "outputs": [
    {
     "data": {
      "text/plain": [
       "3.3333333333333335"
      ]
     },
     "execution_count": 11,
     "metadata": {},
     "output_type": "execute_result"
    }
   ],
   "source": [
    "hours = 200 / 60\n",
    "hours"
   ]
  },
  {
   "cell_type": "markdown",
   "id": "02685e4c-a90b-45d4-a396-60b07a0273d9",
   "metadata": {},
   "source": [
    "## Author\n",
    "Luis Carmine Hernandez Castro"
   ]
  }
 ],
 "metadata": {
  "kernelspec": {
   "display_name": "Python 3 (ipykernel)",
   "language": "python",
   "name": "python3"
  },
  "language_info": {
   "codemirror_mode": {
    "name": "ipython",
    "version": 3
   },
   "file_extension": ".py",
   "mimetype": "text/x-python",
   "name": "python",
   "nbconvert_exporter": "python",
   "pygments_lexer": "ipython3",
   "version": "3.12.4"
  }
 },
 "nbformat": 4,
 "nbformat_minor": 5
}
